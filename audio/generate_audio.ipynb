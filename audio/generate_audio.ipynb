{
 "cells": [
  {
   "cell_type": "code",
   "execution_count": null,
   "metadata": {},
   "outputs": [],
   "source": [
    "import zhtts\n",
    "# pip install zhtts\n",
    "\n",
    "\n",
    "import json\n",
    "import codecs\n",
    "\n",
    "data = json.load(codecs.open('../data/radicals-data.json', 'r', 'utf-8-sig'))\n",
    "\n",
    "ttstaco = zhtts.TTS(text2mel_name=\"TACOTRON\")\n",
    "ttsfs2 = zhtts.TTS()\n",
    "\n",
    "for index, datum in enumerate(data):\n",
    "    text = datum['Radical']\n",
    "\n",
    "    ttstaco.text2wav(text, f\"./tacotron/{datum['Radical No.']}.wav\")\n",
    "    ttsfs2.text2wav(text, f\"./fastspeech2/{datum['Radical No.']}.wav\")\n",
    "\n"
   ]
  }
 ],
 "metadata": {
  "kernelspec": {
   "display_name": "Python 3",
   "language": "python",
   "name": "python3"
  },
  "language_info": {
   "codemirror_mode": {
    "name": "ipython",
    "version": 3
   },
   "file_extension": ".py",
   "mimetype": "text/x-python",
   "name": "python",
   "nbconvert_exporter": "python",
   "pygments_lexer": "ipython3",
   "version": "3.9.2"
  },
  "orig_nbformat": 4
 },
 "nbformat": 4,
 "nbformat_minor": 2
}
